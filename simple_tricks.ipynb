{
 "cells": [
  {
   "cell_type": "markdown",
   "id": "f4313068",
   "metadata": {},
   "source": [
    "# WALRUS OPERATOR"
   ]
  },
  {
   "cell_type": "code",
   "execution_count": 1,
   "id": "eaa468fb",
   "metadata": {
    "scrolled": true
   },
   "outputs": [
    {
     "name": "stdout",
     "output_type": "stream",
     "text": [
      "Enter something:2\n",
      "You entered: 2\n",
      "Enter something:33\n",
      "You entered: 33\n",
      "Enter something:exit\n"
     ]
    }
   ],
   "source": [
    "while (line := input(\"Enter something:\")) != \"exit\":\n",
    "    print(\"You entered:\", line)"
   ]
  },
  {
   "cell_type": "markdown",
   "id": "25ae2e5e",
   "metadata": {},
   "source": [
    "# UNDERSCORE AS PLACEHOLDER"
   ]
  },
  {
   "cell_type": "code",
   "execution_count": 5,
   "id": "1315795f",
   "metadata": {},
   "outputs": [
    {
     "name": "stdout",
     "output_type": "stream",
     "text": [
      "HELLO\n",
      "HELLO\n"
     ]
    }
   ],
   "source": [
    "for _ in range(2):\n",
    "    print(\"HELLO\")"
   ]
  },
  {
   "cell_type": "markdown",
   "id": "9960855b",
   "metadata": {},
   "source": [
    "# DEFAULT DICT"
   ]
  },
  {
   "cell_type": "code",
   "execution_count": 28,
   "id": "5977d2bd",
   "metadata": {},
   "outputs": [
    {
     "name": "stdout",
     "output_type": "stream",
     "text": [
      "2\n",
      "9\n"
     ]
    }
   ],
   "source": [
    "from collections import defaultdict\n",
    "my_dict = defaultdict(int) # DEFAULT DICT\n",
    "my_dict['x'] += 2\n",
    "my_dict['y'] += 9\n",
    "for i in my_dict:\n",
    "    print(my_dict[i])"
   ]
  },
  {
   "cell_type": "code",
   "execution_count": 29,
   "id": "bc7f1e1f",
   "metadata": {},
   "outputs": [
    {
     "ename": "KeyError",
     "evalue": "'x'",
     "output_type": "error",
     "traceback": [
      "\u001b[0;31m---------------------------------------------------------------------------\u001b[0m",
      "\u001b[0;31mKeyError\u001b[0m                                  Traceback (most recent call last)",
      "\u001b[0;32m<ipython-input-29-676f5973d713>\u001b[0m in \u001b[0;36m<module>\u001b[0;34m\u001b[0m\n\u001b[1;32m      1\u001b[0m \u001b[0mmy_dict\u001b[0m \u001b[0;34m=\u001b[0m \u001b[0mdict\u001b[0m\u001b[0;34m(\u001b[0m\u001b[0;34m)\u001b[0m \u001b[0;31m# NORMAL DICT\u001b[0m\u001b[0;34m\u001b[0m\u001b[0;34m\u001b[0m\u001b[0m\n\u001b[0;32m----> 2\u001b[0;31m \u001b[0mmy_dict\u001b[0m\u001b[0;34m[\u001b[0m\u001b[0;34m'x'\u001b[0m\u001b[0;34m]\u001b[0m \u001b[0;34m+=\u001b[0m \u001b[0;36m2\u001b[0m\u001b[0;34m\u001b[0m\u001b[0;34m\u001b[0m\u001b[0m\n\u001b[0m\u001b[1;32m      3\u001b[0m \u001b[0mmy_dict\u001b[0m\u001b[0;34m[\u001b[0m\u001b[0;34m'y'\u001b[0m\u001b[0;34m]\u001b[0m \u001b[0;34m+=\u001b[0m \u001b[0;36m9\u001b[0m\u001b[0;34m\u001b[0m\u001b[0;34m\u001b[0m\u001b[0m\n\u001b[1;32m      4\u001b[0m \u001b[0;32mfor\u001b[0m \u001b[0mi\u001b[0m \u001b[0;32min\u001b[0m \u001b[0mmy_dict\u001b[0m\u001b[0;34m:\u001b[0m\u001b[0;34m\u001b[0m\u001b[0;34m\u001b[0m\u001b[0m\n\u001b[1;32m      5\u001b[0m     \u001b[0mprint\u001b[0m\u001b[0;34m(\u001b[0m\u001b[0mmy_dict\u001b[0m\u001b[0;34m[\u001b[0m\u001b[0mi\u001b[0m\u001b[0;34m]\u001b[0m\u001b[0;34m)\u001b[0m\u001b[0;34m\u001b[0m\u001b[0;34m\u001b[0m\u001b[0m\n",
      "\u001b[0;31mKeyError\u001b[0m: 'x'"
     ]
    }
   ],
   "source": [
    "my_dict = dict() # NORMAL DICT\n",
    "my_dict['x'] += 2\n",
    "my_dict['y'] += 9\n",
    "for i in my_dict:\n",
    "    print(my_dict[i])"
   ]
  },
  {
   "cell_type": "markdown",
   "id": "bcaf31d6",
   "metadata": {},
   "source": [
    "# ZIP"
   ]
  },
  {
   "cell_type": "code",
   "execution_count": 31,
   "id": "d53fa6cb",
   "metadata": {},
   "outputs": [
    {
     "name": "stdout",
     "output_type": "stream",
     "text": [
      "a 1\n",
      "b 2\n",
      "c 3\n",
      "d 4\n"
     ]
    }
   ],
   "source": [
    "a = ['a','b','c','d']\n",
    "b = [1,2,3,4]\n",
    "for i,j in zip(a,b):\n",
    "    print(i,j)"
   ]
  },
  {
   "cell_type": "markdown",
   "id": "9e923bd5",
   "metadata": {},
   "source": [
    "# ENUMERATE WITH A START VALUE"
   ]
  },
  {
   "cell_type": "code",
   "execution_count": 33,
   "id": "da2f5aa5",
   "metadata": {},
   "outputs": [
    {
     "name": "stdout",
     "output_type": "stream",
     "text": [
      "100 a\n",
      "101 b\n"
     ]
    }
   ],
   "source": [
    "a = ['a','b']\n",
    "for i,j in enumerate(a,start=100):\n",
    "    print(i,j)"
   ]
  },
  {
   "cell_type": "markdown",
   "id": "c39ccfbd",
   "metadata": {},
   "source": [
    "# FORMAT STRINGS"
   ]
  },
  {
   "cell_type": "code",
   "execution_count": 34,
   "id": "6772ff7b",
   "metadata": {},
   "outputs": [
    {
     "name": "stdout",
     "output_type": "stream",
     "text": [
      "Name: Alice, Age: 30\n"
     ]
    }
   ],
   "source": [
    "name = \"Alice\"\n",
    "age = 30\n",
    "print(f\"Name: {name}, Age: {age}\")"
   ]
  },
  {
   "cell_type": "markdown",
   "id": "ca0e59e4",
   "metadata": {},
   "source": [
    "# ITERTOOLS : ADVANCED ITERATION"
   ]
  },
  {
   "cell_type": "code",
   "execution_count": 37,
   "id": "15b1b692",
   "metadata": {
    "scrolled": false
   },
   "outputs": [
    {
     "name": "stdout",
     "output_type": "stream",
     "text": [
      "('a', 'b', 'c')\n",
      "('a', 'c', 'b')\n",
      "('b', 'a', 'c')\n",
      "('b', 'c', 'a')\n",
      "('c', 'a', 'b')\n",
      "('c', 'b', 'a')\n"
     ]
    }
   ],
   "source": [
    "from itertools import permutations\n",
    "for perm in permutations(\"abc\"):\n",
    "    print(perm)"
   ]
  },
  {
   "cell_type": "markdown",
   "id": "da996786",
   "metadata": {},
   "source": [
    "# LIST COMPREHENSION WITH CONDITIONS"
   ]
  },
  {
   "cell_type": "code",
   "execution_count": 42,
   "id": "470847b2",
   "metadata": {},
   "outputs": [
    {
     "data": {
      "text/plain": [
       "[2, 4, 6]"
      ]
     },
     "execution_count": 42,
     "metadata": {},
     "output_type": "execute_result"
    }
   ],
   "source": [
    "numbers = [1, 2, 3, 4, 5, 6]\n",
    "evens = [x for x in numbers if x % 2 == 0]\n",
    "evens"
   ]
  },
  {
   "cell_type": "markdown",
   "id": "4d581119",
   "metadata": {},
   "source": [
    "# ANY AND ALL"
   ]
  },
  {
   "cell_type": "code",
   "execution_count": 43,
   "id": "28585f4d",
   "metadata": {},
   "outputs": [],
   "source": [
    "values = [True, False, True]\n",
    "result_any = any(values)  # True\n",
    "result_all = all(values)  # False"
   ]
  },
  {
   "cell_type": "markdown",
   "id": "cd9a6ca9",
   "metadata": {},
   "source": [
    "# FUNCTION ANNOTATION"
   ]
  },
  {
   "cell_type": "markdown",
   "id": "0ccff410",
   "metadata": {},
   "source": [
    "# def greet(name: str) -> str: # ACCEPTS AND RETURNS STRING\n",
    "    return f\"Hello, {name}!\""
   ]
  }
 ],
 "metadata": {
  "kernelspec": {
   "display_name": "Python 3",
   "language": "python",
   "name": "python3"
  },
  "language_info": {
   "codemirror_mode": {
    "name": "ipython",
    "version": 3
   },
   "file_extension": ".py",
   "mimetype": "text/x-python",
   "name": "python",
   "nbconvert_exporter": "python",
   "pygments_lexer": "ipython3",
   "version": "3.8.8"
  }
 },
 "nbformat": 4,
 "nbformat_minor": 5
}
