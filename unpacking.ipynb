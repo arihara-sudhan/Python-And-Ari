{
 "cells": [
  {
   "cell_type": "markdown",
   "id": "98b67d10",
   "metadata": {},
   "source": [
    "# UNPACKING LISTS AND TUPLES"
   ]
  },
  {
   "cell_type": "code",
   "execution_count": 7,
   "id": "f05f79d3",
   "metadata": {},
   "outputs": [
    {
     "name": "stdout",
     "output_type": "stream",
     "text": [
      "1\n",
      "2\n",
      "3\n"
     ]
    }
   ],
   "source": [
    "my_list = [1, 2, 3]\n",
    "a, b, c = my_list  # Unpacking elements into variables a, b, and c\n",
    "print(a)  # Output: 1\n",
    "print(b)  # Output: 2\n",
    "print(c)  # Output: 3"
   ]
  },
  {
   "cell_type": "code",
   "execution_count": 9,
   "id": "97d18a85",
   "metadata": {},
   "outputs": [],
   "source": [
    "my_tuple = (4, 5, 6)\n",
    "x, y, z = my_tuple  # Unpacking elements into variables x, y, and z"
   ]
  },
  {
   "cell_type": "markdown",
   "id": "46830f57",
   "metadata": {},
   "source": [
    "# * TO COLLECT REMAINING INTO SINGLE"
   ]
  },
  {
   "cell_type": "code",
   "execution_count": 10,
   "id": "b74333df",
   "metadata": {},
   "outputs": [
    {
     "name": "stdout",
     "output_type": "stream",
     "text": [
      "1\n",
      "[2, 3, 4]\n",
      "5\n"
     ]
    }
   ],
   "source": [
    "my_list = [1, 2, 3, 4, 5]\n",
    "first, *rest, last = my_list\n",
    "print(first)  # Output: 1\n",
    "print(rest)   # Output: [2, 3, 4]\n",
    "print(last)   # Output: 5"
   ]
  },
  {
   "cell_type": "code",
   "execution_count": 16,
   "id": "81cbd0ba",
   "metadata": {},
   "outputs": [
    {
     "name": "stdout",
     "output_type": "stream",
     "text": [
      "0\n",
      "[1, 2, 3, 4, 5, 6, 7, 8]\n",
      "9\n"
     ]
    }
   ],
   "source": [
    "first, *middle, last = range(10)\n",
    "print(first)    # Output: 0\n",
    "print(middle)   # Output: [1, 2, 3, 4, 5, 6, 7, 8]\n",
    "print(last)     # Output: 9"
   ]
  },
  {
   "cell_type": "markdown",
   "id": "3e384c34",
   "metadata": {},
   "source": [
    "# UNPACKING FUNCTION ARGUMENTS"
   ]
  },
  {
   "cell_type": "code",
   "execution_count": 17,
   "id": "ab4e3e8a",
   "metadata": {},
   "outputs": [
    {
     "name": "stdout",
     "output_type": "stream",
     "text": [
      "1 2 3\n",
      "1 2 3\n"
     ]
    }
   ],
   "source": [
    "def my_function(a, b, c):\n",
    "    print(a, b, c)\n",
    "\n",
    "args = [1, 2, 3]\n",
    "my_function(*args)  # Unpacks args list into function arguments\n",
    "\n",
    "kwargs = {'a': 1, 'b': 2, 'c': 3}\n",
    "my_function(**kwargs)  # Unpacks kwargs dictionary into function arguments"
   ]
  }
 ],
 "metadata": {
  "kernelspec": {
   "display_name": "Python 3",
   "language": "python",
   "name": "python3"
  },
  "language_info": {
   "codemirror_mode": {
    "name": "ipython",
    "version": 3
   },
   "file_extension": ".py",
   "mimetype": "text/x-python",
   "name": "python",
   "nbconvert_exporter": "python",
   "pygments_lexer": "ipython3",
   "version": "3.8.8"
  }
 },
 "nbformat": 4,
 "nbformat_minor": 5
}
